{
 "cells": [
  {
   "cell_type": "code",
   "execution_count": null,
   "metadata": {},
   "outputs": [],
   "source": []
  },
  {
   "cell_type": "code",
   "execution_count": null,
   "metadata": {},
   "outputs": [],
   "source": []
  },
  {
   "cell_type": "code",
   "execution_count": null,
   "metadata": {},
   "outputs": [],
   "source": [
    "%%writefile initializeSearch.py\n",
    "\n",
    "import argparse\n",
    "from Sel__Executor import checkConfigAndTriggerSearch\n",
    "\n",
    "\n",
    "\n",
    "BROWSER_CHOICE_MSG = \"\"\"\n",
    "Select from the following list of air cargo problems. You may choose more than\n",
    "one by entering multiple selections separated by spaces.\n",
    "\"\"\"\n",
    "\n",
    "SEARCH_CHOICE_MSG = \"\"\"\n",
    "Select from the following list of search functions. You may choose more than\n",
    "one by entering multiple selections separated by spaces.\n",
    "\"\"\"\n",
    "\n",
    "SEARCH_TEXT_MSG = \"\"\"\n",
    "type the text that you want to search. you may evenn search multiple search by just seperating the text by \";<blankspance>\"\n",
    "\"\"\"\n",
    "\n",
    "INVALID_ARG_MSG = \"\"\"\n",
    "You must either use the -m flag to run in manual mode, or use both the -p and\n",
    "-s flags to specify a list of problems and search algorithms to run. Valid\n",
    "choices for each include:\n",
    "\"\"\"\n",
    "\n",
    "BROWSER = [['Chrome'],\n",
    "            ['Mozilla'],\n",
    "            ['EDGE']\n",
    "          ]\n",
    "\n",
    "SEARCHES = [['GoogleSearch'],\n",
    "            ['GoogleNewsSearch'],\n",
    "            ['GoogleScholarSearch'],\n",
    "            ['GoogleImageSearch']\n",
    "            ]\n",
    "\n",
    "\n",
    "def manual():\n",
    "    print(BROWSER_CHOICE_MSG)\n",
    "    for idx, (name) in enumerate(BROWSER):\n",
    "        print(\"    {!s}. {}\".format(idx+1, name))\n",
    "    b_choices = input(\"> \")#.split() ## only a single string will be selected not a list  seperated by <blankspace>\n",
    "    print()\n",
    "    \n",
    "    print(SEARCH_CHOICE_MSG)\n",
    "    for idx, (name) in enumerate(SEARCHES):\n",
    "        print(\"    {!s}. {}\".format(idx+1, name))\n",
    "    s_choices = input(\"> \")#.split()\n",
    "    \n",
    "    print(BROWSER_CHOICE_MSG)\n",
    "    searchFor = input(\"> \").split('; ')\n",
    "    searchForUpt = '[\"'+'\", \"'.join(searchFor)+'\"]'\n",
    "    \n",
    "    configSearch = {\n",
    "        'useWhichBrowser' : [ ele for brwsr in BROWSER for ele in brwsr ][int(b_choices)-1],\n",
    "        'searchUsing' : [ ele for srch in SEARCHES for ele in srch ][int(s_choices)-1],\n",
    "        'searchFor' : searchForUpt,\n",
    "        'outputFilePath' : '../data/output/ExtractedNews_{}.tsv'\n",
    "    }\n",
    "    \n",
    "    checkConfigAndTriggerSearch(configSearch)\n",
    "    \n",
    "    \n",
    "    print(\"\\nYou can run this selection again automatically from the command \" +\n",
    "          \"line\\nwith the following command:\")\n",
    "    print(\"\\n  python {} -p {} -s {} -sF {}\\n\".format(\n",
    "        __file__, \" \".join(b_choices), \" \".join(s_choices), \" \".join(searchFor)))\n",
    "\n",
    "\n",
    "\n",
    "if __name__==\"__main__\":\n",
    "    parser = argparse.ArgumentParser(description=\"Solve air cargo planning problems \" + \n",
    "        \"using a variety of state space search methods including uninformed, greedy, \" +\n",
    "        \"and informed heuristic search.\")\n",
    "    parser.add_argument('-m', '--manual', action=\"store_true\",\n",
    "                        help=\"Interactively select the problems and searches to run.\")\n",
    "    \n",
    "    parser.add_argument('-b', '--browser', nargs= 1, choices=range(1, len(BROWSER)+1), type=int, metavar='', #nargs=\"+\"\n",
    "                        help=\"Specify the indices of the problems to solve as a list of space separated values. Choose from: {!s}\".format(list(range(1, len(BROWSER)+1))),\n",
    "                       default = 1)\n",
    "    parser.add_argument('-s', '--searcher', nargs= 1, choices=range(1, len(SEARCHES)+1), type=int, metavar='',\n",
    "                        help=\"Specify the indices of the search algorithms to use as a list of space separated values. Choose from: {!s}\".format(list(range(1, len(SEARCHES)+1))),\n",
    "                       default = 2)\n",
    "    parser.add_argument('-sF', '--searchFor', metavar= '',\n",
    "                        help='Type the String that you want to search')\n",
    "    args = parser.parse_args()\n",
    "\n",
    "    if args.manual:\n",
    "        manual()\n",
    "    elif args.browser and args.searcher and args.searchFor:\n",
    "        main(list(sorted(set(args.problems))), list(sorted(set((args.searches)))))\n",
    "    else:\n",
    "        print()\n",
    "        parser.print_help()\n",
    "        print(INVALID_ARG_MSG)\n",
    "        print(\"Problems\\n-----------------\")\n",
    "        for idx, (name) in enumerate(BROWSER):\n",
    "            print(\"    {!s}. {}\".format(idx+1, name))\n",
    "        print()\n",
    "        print(\"Search Algorithms\\n-----------------\")\n",
    "        for idx, (name) in enumerate(SEARCHES):\n",
    "            print(\"    {!s}. {}\".format(idx+1, name))\n",
    "        print()\n",
    "print(\"Use manual mode for interactive selection:\\n\\n\\tpython initializeSearch.py -m\\n\")"
   ]
  },
  {
   "cell_type": "code",
   "execution_count": null,
   "metadata": {},
   "outputs": [],
   "source": []
  },
  {
   "cell_type": "code",
   "execution_count": null,
   "metadata": {},
   "outputs": [],
   "source": []
  },
  {
   "cell_type": "code",
   "execution_count": null,
   "metadata": {},
   "outputs": [],
   "source": [
    "Headline_element = driver.find_element_by_xpath('//*[@id=\"yDmH0d\"]')\n",
    "\n",
    "News = Headline_element.text.split('...\\n')\n",
    "import pandas as pd\n",
    "\n",
    "\n",
    "News = [ ele.split('\\n') for ele in News ]\n",
    "print(News[0:5])\n",
    "listLens = [ len(ele) for ele in News ]\n",
    "print(listLens[0:5])\n",
    "\n",
    "def mode(arr) :\n",
    "    m = max([arr.count(a) for a in arr])\n",
    "    return [x for x in arr if arr.count(x) == m][0] if m>1 else None\n",
    "\n"
   ]
  },
  {
   "cell_type": "code",
   "execution_count": null,
   "metadata": {},
   "outputs": [],
   "source": [
    "pd.DataFrame(News)"
   ]
  },
  {
   "cell_type": "code",
   "execution_count": null,
   "metadata": {},
   "outputs": [],
   "source": [
    "def listbreak(li, breakIntoLenOf):\n",
    "    liLeft = li\n",
    "    brokenLi = []\n",
    "    while len(liLeft) > 0:\n",
    "#         print(\":\",liLeft[0:breakIntoLenOf])\n",
    "        brokenLi.append(liLeft[0:breakIntoLenOf])\n",
    "        liLeft = liLeft[breakIntoLenOf:]\n",
    "    return brokenLi#( ele for ele in brokenLi )\n",
    "\n",
    "li = ['Pakistan Today', '5 days ago', \"Supreme Court rules that Karachi's JPMC will remain a federal institution\", \"It has rejected the Sindh govt's plea for control of the hospital.\", 'Samaa Digital', '25 days ago', 'UTP who fled from JPMC may have killed traffic cop: police', 'Police believe that the under-trial prisoner (UTP) who had escaped from the Jinnah Postgraduate Medical Centre (JPMC) on January 12 may be responsible for ']\n",
    "A = (ele for ele in listbreak(li,4))\n",
    "type(A)"
   ]
  },
  {
   "cell_type": "code",
   "execution_count": null,
   "metadata": {},
   "outputs": [],
   "source": [
    "MoreProcessedNews1, indToRemove1, MoreProcessedNews2, indToRemove2 = [], [], [], []\n",
    "\n",
    "NewsIssue1 = [ (i,News[i]) for i in range(len(listLens)) if (listLens[i] > mode(listLens)) and (listLens[i]%mode(listLens)==0) ]\n",
    "indToRemove1 = [ ele[0] for ele in NewsIssue1 ]\n",
    "for ele in NewsIssue1:\n",
    "    for li in listbreak(ele[1], mode(listLens)):\n",
    "        MoreProcessedNews1 += tempLi\n",
    "\n",
    "NewsIssue2 = [ (i,News[i]) for i in range(len(listLens)) if (listLens[i] > mode(listLens)) and (listLens[i]%mode(listLens)!=0) ]\n",
    "indToRemove2 = [ ele[0] for ele in NewsIssue2 ]\n",
    "for ele in NewsIssue2:\n",
    "    for li in listbreak(ele[1], mode(listLens)):\n",
    "        MoreProcessedNews2 += tempLi\n",
    "\n"
   ]
  },
  {
   "cell_type": "code",
   "execution_count": null,
   "metadata": {},
   "outputs": [],
   "source": [
    "pd.DataFrame(CorrectNews)"
   ]
  },
  {
   "cell_type": "code",
   "execution_count": null,
   "metadata": {},
   "outputs": [],
   "source": [
    "CorrectNews = [ ele for ele in News if len(ele) <= mode(listLens) ]\n",
    "modeLenInColDict = {}\n",
    "for i in range(mode(listLens)):\n",
    "    print(i)\n",
    "    colLi = [ ele[i] for ele in CorrectNews ]\n",
    "    colLenLi = [ len(ele) for ele in colLi ]\n",
    "    modeLenInColDict['col'+str(i)] = mode(colLi)\n",
    "modeLenInColDict"
   ]
  },
  {
   "cell_type": "code",
   "execution_count": null,
   "metadata": {},
   "outputs": [],
   "source": [
    "try:\n",
    "    for i in range(0,1):\n",
    "        driver.get(\"https://www.google.com/\")\n",
    "        driver.quit\n",
    "except Exception as excpt:\n",
    "    print(excpt)\n",
    "    if 'about:neterror' in excpt:\n",
    "        msg = 'Network Issue: Internet not available.'\n",
    "        print(msg); raise Exception(msg)"
   ]
  },
  {
   "cell_type": "code",
   "execution_count": null,
   "metadata": {},
   "outputs": [],
   "source": []
  },
  {
   "cell_type": "code",
   "execution_count": null,
   "metadata": {},
   "outputs": [],
   "source": []
  },
  {
   "cell_type": "code",
   "execution_count": null,
   "metadata": {},
   "outputs": [],
   "source": []
  },
  {
   "cell_type": "code",
   "execution_count": null,
   "metadata": {},
   "outputs": [],
   "source": []
  },
  {
   "cell_type": "code",
   "execution_count": null,
   "metadata": {},
   "outputs": [],
   "source": []
  },
  {
   "cell_type": "code",
   "execution_count": null,
   "metadata": {},
   "outputs": [],
   "source": []
  }
 ],
 "metadata": {
  "kernelspec": {
   "display_name": "MyProjectVirEnv",
   "language": "python",
   "name": "myprojectvirenv"
  },
  "language_info": {
   "codemirror_mode": {
    "name": "ipython",
    "version": 3
   },
   "file_extension": ".py",
   "mimetype": "text/x-python",
   "name": "python",
   "nbconvert_exporter": "python",
   "pygments_lexer": "ipython3",
   "version": "3.6.5"
  }
 },
 "nbformat": 4,
 "nbformat_minor": 2
}
